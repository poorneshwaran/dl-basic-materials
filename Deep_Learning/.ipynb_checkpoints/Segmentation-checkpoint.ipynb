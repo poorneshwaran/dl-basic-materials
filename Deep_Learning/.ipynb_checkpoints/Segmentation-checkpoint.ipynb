{
 "cells": [
  {
   "cell_type": "markdown",
   "metadata": {},
   "source": [
    "# Segmentation"
   ]
  },
  {
   "cell_type": "markdown",
   "metadata": {},
   "source": [
    "Image Segmentation refers to dividing the image into groups of pixels based on some criteria."
   ]
  },
  {
   "cell_type": "raw",
   "metadata": {},
   "source": [
    "A segmentation algorithm takes an image as input and outputs a collection of regions (or segments) which can be represented as\n",
    "\n",
    "    1. A collection of contours \n",
    "    2. A mask (either grayscale or color ) where each segment is assigned a unique grayscale value or color to identify it."
   ]
  },
  {
   "cell_type": "markdown",
   "metadata": {},
   "source": [
    "# Semantic Segmentation"
   ]
  },
  {
   "cell_type": "markdown",
   "metadata": {},
   "source": [
    "In Semantic segmentation the goal is to assign a label (car, building, person, road, sidewalk, sky, trees etc.) to every pixel in the image.\n",
    "<html>\n",
    "    \n",
    "<img src=\"http://sznur.com/article/sdc-semantic-segmentation/ss_01.jpg\">\n",
    "   </html>"
   ]
  },
  {
   "cell_type": "raw",
   "metadata": {},
   "source": [
    "Here, the people in the mask are represented using red pixels, grass as light green pixel,Tress are green pixels and the sky is blue colored. "
   ]
  },
  {
   "cell_type": "raw",
   "metadata": {},
   "source": [
    "So that image is classified to its respective class like people are one class and trees are another class. "
   ]
  },
  {
   "cell_type": "markdown",
   "metadata": {},
   "source": [
    "# Semantic segmentation Using Torchvision"
   ]
  },
  {
   "cell_type": "markdown",
   "metadata": {},
   "source": [
    "Now we look Segmentation by Deep learning based on Fully Convolutional Network"
   ]
  },
  {
   "cell_type": "markdown",
   "metadata": {},
   "source": [
    "These models have been trained on a subset of COCO Train 2017 dataset which correspond to the PASCAL VOC dataset. There are total 20 categories supported by the models."
   ]
  },
  {
   "cell_type": "markdown",
   "metadata": {},
   "source": [
    "# Input and Outputs"
   ]
  },
  {
   "cell_type": "markdown",
   "metadata": {},
   "source": [
    "These models expect a 3-channel image (RGB) which is normalized with the Imagenet mean and standard deviation, i.e.,\n",
    "mean = [0.485, 0.456, 0.406], std = [0.229, 0.224, 0.225]"
   ]
  },
  {
   "cell_type": "markdown",
   "metadata": {},
   "source": [
    "So, the input dimension is [Ni x Ci x Hi x Wi]\n",
    "where,\n",
    "\n",
    "    Ni -> the batch size\n",
    "    Ci -> the number of channels (which is 3)\n",
    "    Hi -> the height of the image\n",
    "    Wi -> the width of the image"
   ]
  },
  {
   "cell_type": "markdown",
   "metadata": {},
   "source": [
    "And the output dimension of the model is [No x Co x Ho x Wo]\n",
    "where,\n",
    "\n",
    "    No -> is the batch size (same as Ni)\n",
    "    Co -> is the number of classes that the dataset have!\n",
    "    Ho -> the height of the image (which is the same as Hi in almost all cases)\n",
    "    Wo -> the width of the image (which is the same as Wi in almost all cases)"
   ]
  },
  {
   "cell_type": "markdown",
   "metadata": {},
   "source": [
    "# FCN with Resnet-101 backbone Architecture"
   ]
  },
  {
   "cell_type": "markdown",
   "metadata": {},
   "source": [
    "### Load the model"
   ]
  },
  {
   "cell_type": "code",
   "execution_count": 4,
   "metadata": {},
   "outputs": [
    {
     "ename": "ImportError",
     "evalue": "No module named 'torchvision'",
     "output_type": "error",
     "traceback": [
      "\u001b[0;31m---------------------------------------------------------------------------\u001b[0m",
      "\u001b[0;31mImportError\u001b[0m                               Traceback (most recent call last)",
      "\u001b[0;32m<ipython-input-4-7476d3896e95>\u001b[0m in \u001b[0;36m<module>\u001b[0;34m\u001b[0m\n\u001b[0;32m----> 1\u001b[0;31m \u001b[0;32mfrom\u001b[0m \u001b[0mtorchvision\u001b[0m \u001b[0;32mimport\u001b[0m \u001b[0mmodels\u001b[0m\u001b[0;34m\u001b[0m\u001b[0m\n\u001b[0m\u001b[1;32m      2\u001b[0m \u001b[0mfcn\u001b[0m \u001b[0;34m=\u001b[0m \u001b[0mmodels\u001b[0m\u001b[0;34m.\u001b[0m\u001b[0msegmentation\u001b[0m\u001b[0;34m.\u001b[0m\u001b[0mfcn_resnet101\u001b[0m\u001b[0;34m(\u001b[0m\u001b[0mpretrained\u001b[0m\u001b[0;34m=\u001b[0m\u001b[0;32mTrue\u001b[0m\u001b[0;34m)\u001b[0m\u001b[0;34m.\u001b[0m\u001b[0meval\u001b[0m\u001b[0;34m(\u001b[0m\u001b[0;34m)\u001b[0m\u001b[0;34m\u001b[0m\u001b[0m\n",
      "\u001b[0;31mImportError\u001b[0m: No module named 'torchvision'"
     ]
    }
   ],
   "source": [
    "from torchvision import models\n",
    "fcn = models.segmentation.fcn_resnet101(pretrained=True).eval()"
   ]
  },
  {
   "cell_type": "markdown",
   "metadata": {},
   "source": [
    "We have a pretrained model of FCN with a Resnet101 backbone. The pretrained=True flag will download the model if it is not already present in the cache. The .eval method will load it in inference mode."
   ]
  },
  {
   "cell_type": "markdown",
   "metadata": {},
   "source": [
    "### NOTE:\n",
    "The output of torchvision models is an OrderedDict and not a torch.Tensor\n",
    "And in during inference (.eval() mode ) the output, which is an OrderedDict just has one key – out. This out key holds the output and it’s corresponding value has the shape of [No x Co x Ho x Wo]."
   ]
  },
  {
   "cell_type": "markdown",
   "metadata": {},
   "source": [
    "### Load the image"
   ]
  },
  {
   "cell_type": "code",
   "execution_count": 5,
   "metadata": {},
   "outputs": [],
   "source": [
    "import cv2 as cv\n",
    "!wget data:image/jpeg;base64,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\n",
    "# img=cv.imread(\"data:image/jpeg;base64,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\")"
   ]
  },
  {
   "cell_type": "code",
   "execution_count": 6,
   "metadata": {},
   "outputs": [
    {
     "ename": "TypeError",
     "evalue": "Image data cannot be converted to float",
     "output_type": "error",
     "traceback": [
      "\u001b[0;31m---------------------------------------------------------------------------\u001b[0m",
      "\u001b[0;31mTypeError\u001b[0m                                 Traceback (most recent call last)",
      "\u001b[0;32m<ipython-input-6-e367e146f37c>\u001b[0m in \u001b[0;36m<module>\u001b[0;34m\u001b[0m\n\u001b[1;32m      1\u001b[0m \u001b[0;32mimport\u001b[0m \u001b[0mmatplotlib\u001b[0m\u001b[0;34m.\u001b[0m\u001b[0mpyplot\u001b[0m \u001b[0;32mas\u001b[0m \u001b[0mplt\u001b[0m\u001b[0;34m\u001b[0m\u001b[0m\n\u001b[0;32m----> 2\u001b[0;31m \u001b[0mplt\u001b[0m\u001b[0;34m.\u001b[0m\u001b[0mimshow\u001b[0m\u001b[0;34m(\u001b[0m\u001b[0mimg\u001b[0m\u001b[0;34m)\u001b[0m\u001b[0;34m\u001b[0m\u001b[0m\n\u001b[0m\u001b[1;32m      3\u001b[0m \u001b[0mplt\u001b[0m\u001b[0;34m.\u001b[0m\u001b[0mshow\u001b[0m\u001b[0;34m(\u001b[0m\u001b[0;34m)\u001b[0m\u001b[0;34m\u001b[0m\u001b[0m\n",
      "\u001b[0;32m~/ml/lib/python3.5/site-packages/matplotlib/pyplot.py\u001b[0m in \u001b[0;36mimshow\u001b[0;34m(X, cmap, norm, aspect, interpolation, alpha, vmin, vmax, origin, extent, shape, filternorm, filterrad, imlim, resample, url, data, **kwargs)\u001b[0m\n\u001b[1;32m   2699\u001b[0m         \u001b[0mfilternorm\u001b[0m\u001b[0;34m=\u001b[0m\u001b[0mfilternorm\u001b[0m\u001b[0;34m,\u001b[0m \u001b[0mfilterrad\u001b[0m\u001b[0;34m=\u001b[0m\u001b[0mfilterrad\u001b[0m\u001b[0;34m,\u001b[0m \u001b[0mimlim\u001b[0m\u001b[0;34m=\u001b[0m\u001b[0mimlim\u001b[0m\u001b[0;34m,\u001b[0m\u001b[0;34m\u001b[0m\u001b[0m\n\u001b[1;32m   2700\u001b[0m         resample=resample, url=url, **({\"data\": data} if data is not\n\u001b[0;32m-> 2701\u001b[0;31m         None else {}), **kwargs)\n\u001b[0m\u001b[1;32m   2702\u001b[0m     \u001b[0msci\u001b[0m\u001b[0;34m(\u001b[0m\u001b[0m__ret\u001b[0m\u001b[0;34m)\u001b[0m\u001b[0;34m\u001b[0m\u001b[0m\n\u001b[1;32m   2703\u001b[0m     \u001b[0;32mreturn\u001b[0m \u001b[0m__ret\u001b[0m\u001b[0;34m\u001b[0m\u001b[0m\n",
      "\u001b[0;32m~/ml/lib/python3.5/site-packages/matplotlib/__init__.py\u001b[0m in \u001b[0;36minner\u001b[0;34m(ax, data, *args, **kwargs)\u001b[0m\n\u001b[1;32m   1808\u001b[0m                         \u001b[0;34m\"the Matplotlib list!)\"\u001b[0m \u001b[0;34m%\u001b[0m \u001b[0;34m(\u001b[0m\u001b[0mlabel_namer\u001b[0m\u001b[0;34m,\u001b[0m \u001b[0mfunc\u001b[0m\u001b[0;34m.\u001b[0m\u001b[0m__name__\u001b[0m\u001b[0;34m)\u001b[0m\u001b[0;34m,\u001b[0m\u001b[0;34m\u001b[0m\u001b[0m\n\u001b[1;32m   1809\u001b[0m                         RuntimeWarning, stacklevel=2)\n\u001b[0;32m-> 1810\u001b[0;31m             \u001b[0;32mreturn\u001b[0m \u001b[0mfunc\u001b[0m\u001b[0;34m(\u001b[0m\u001b[0max\u001b[0m\u001b[0;34m,\u001b[0m \u001b[0;34m*\u001b[0m\u001b[0margs\u001b[0m\u001b[0;34m,\u001b[0m \u001b[0;34m**\u001b[0m\u001b[0mkwargs\u001b[0m\u001b[0;34m)\u001b[0m\u001b[0;34m\u001b[0m\u001b[0m\n\u001b[0m\u001b[1;32m   1811\u001b[0m \u001b[0;34m\u001b[0m\u001b[0m\n\u001b[1;32m   1812\u001b[0m         inner.__doc__ = _add_data_doc(inner.__doc__,\n",
      "\u001b[0;32m~/ml/lib/python3.5/site-packages/matplotlib/axes/_axes.py\u001b[0m in \u001b[0;36mimshow\u001b[0;34m(self, X, cmap, norm, aspect, interpolation, alpha, vmin, vmax, origin, extent, shape, filternorm, filterrad, imlim, resample, url, **kwargs)\u001b[0m\n\u001b[1;32m   5492\u001b[0m                               resample=resample, **kwargs)\n\u001b[1;32m   5493\u001b[0m \u001b[0;34m\u001b[0m\u001b[0m\n\u001b[0;32m-> 5494\u001b[0;31m         \u001b[0mim\u001b[0m\u001b[0;34m.\u001b[0m\u001b[0mset_data\u001b[0m\u001b[0;34m(\u001b[0m\u001b[0mX\u001b[0m\u001b[0;34m)\u001b[0m\u001b[0;34m\u001b[0m\u001b[0m\n\u001b[0m\u001b[1;32m   5495\u001b[0m         \u001b[0mim\u001b[0m\u001b[0;34m.\u001b[0m\u001b[0mset_alpha\u001b[0m\u001b[0;34m(\u001b[0m\u001b[0malpha\u001b[0m\u001b[0;34m)\u001b[0m\u001b[0;34m\u001b[0m\u001b[0m\n\u001b[1;32m   5496\u001b[0m         \u001b[0;32mif\u001b[0m \u001b[0mim\u001b[0m\u001b[0;34m.\u001b[0m\u001b[0mget_clip_path\u001b[0m\u001b[0;34m(\u001b[0m\u001b[0;34m)\u001b[0m \u001b[0;32mis\u001b[0m \u001b[0;32mNone\u001b[0m\u001b[0;34m:\u001b[0m\u001b[0;34m\u001b[0m\u001b[0m\n",
      "\u001b[0;32m~/ml/lib/python3.5/site-packages/matplotlib/image.py\u001b[0m in \u001b[0;36mset_data\u001b[0;34m(self, A)\u001b[0m\n\u001b[1;32m    640\u001b[0m         if (self._A.dtype != np.uint8 and\n\u001b[1;32m    641\u001b[0m                 not np.can_cast(self._A.dtype, float, \"same_kind\")):\n\u001b[0;32m--> 642\u001b[0;31m             \u001b[0;32mraise\u001b[0m \u001b[0mTypeError\u001b[0m\u001b[0;34m(\u001b[0m\u001b[0;34m\"Image data cannot be converted to float\"\u001b[0m\u001b[0;34m)\u001b[0m\u001b[0;34m\u001b[0m\u001b[0m\n\u001b[0m\u001b[1;32m    643\u001b[0m \u001b[0;34m\u001b[0m\u001b[0m\n\u001b[1;32m    644\u001b[0m         if not (self._A.ndim == 2\n",
      "\u001b[0;31mTypeError\u001b[0m: Image data cannot be converted to float"
     ]
    }
   ],
   "source": [
    "import matplotlib.pyplot as plt\n",
    "plt.imshow(img)\n",
    "plt.show()"
   ]
  },
  {
   "cell_type": "code",
   "execution_count": null,
   "metadata": {},
   "outputs": [],
   "source": []
  }
 ],
 "metadata": {
  "kernelspec": {
   "display_name": "Python 3",
   "language": "python",
   "name": "python3"
  },
  "language_info": {
   "codemirror_mode": {
    "name": "ipython",
    "version": 3
   },
   "file_extension": ".py",
   "mimetype": "text/x-python",
   "name": "python",
   "nbconvert_exporter": "python",
   "pygments_lexer": "ipython3",
   "version": "3.5.2"
  }
 },
 "nbformat": 4,
 "nbformat_minor": 2
}
