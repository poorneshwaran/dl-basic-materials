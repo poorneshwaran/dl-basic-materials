{
 "cells": [
  {
   "cell_type": "markdown",
   "metadata": {},
   "source": [
    "# Workflow\n",
    "\n",
    "- Dataset Preparation\n",
    "\n",
    "- Split and Preprocess Data\n",
    "\n",
    "- Utilities for Metric Evaluation and Plotting\n",
    "\n",
    "- Hyper-Parameters\n",
    "\n",
    "- Building Model\n",
    "\n",
    "- Training\n",
    "\n",
    "- Testing\n",
    "\n",
    "- Display performance"
   ]
  },
  {
   "cell_type": "markdown",
   "metadata": {},
   "source": [
    "# Loading Basic Libraries"
   ]
  },
  {
   "cell_type": "code",
   "execution_count": 1,
   "metadata": {},
   "outputs": [],
   "source": [
    "import numpy as np\n",
    "import pandas as pd\n",
    "import time"
   ]
  },
  {
   "cell_type": "code",
   "execution_count": 2,
   "metadata": {},
   "outputs": [],
   "source": [
    "%%capture\n",
    "from tqdm import tqdm_notebook as tqdm_nb\n",
    "from tqdm import tnrange\n",
    "tqdm_nb().pandas()"
   ]
  },
  {
   "cell_type": "markdown",
   "metadata": {},
   "source": [
    "# Dataset Preparation"
   ]
  },
  {
   "cell_type": "code",
   "execution_count": 3,
   "metadata": {},
   "outputs": [],
   "source": [
    "np.random.seed(0)\n",
    "x = 3 * np.random.randn(500) + 0.75    # Array of 500 values with mean = 0.75, stddev = 3\n",
    "res = 0.5 * np.random.randn(500)       # Generate 100 residual terms\n",
    "y = 2 + 0.3 * x + res                  # Actual values of Y"
   ]
  },
  {
   "cell_type": "code",
   "execution_count": 4,
   "metadata": {},
   "outputs": [],
   "source": [
    "df = pd.DataFrame(\n",
    "    {'X': x,\n",
    "     'Y': y})"
   ]
  },
  {
   "cell_type": "code",
   "execution_count": 5,
   "metadata": {},
   "outputs": [
    {
     "data": {
      "text/html": [
       "<div>\n",
       "<style scoped>\n",
       "    .dataframe tbody tr th:only-of-type {\n",
       "        vertical-align: middle;\n",
       "    }\n",
       "\n",
       "    .dataframe tbody tr th {\n",
       "        vertical-align: top;\n",
       "    }\n",
       "\n",
       "    .dataframe thead th {\n",
       "        text-align: right;\n",
       "    }\n",
       "</style>\n",
       "<table border=\"1\" class=\"dataframe\">\n",
       "  <thead>\n",
       "    <tr style=\"text-align: right;\">\n",
       "      <th></th>\n",
       "      <th>X</th>\n",
       "      <th>Y</th>\n",
       "    </tr>\n",
       "  </thead>\n",
       "  <tbody>\n",
       "    <tr>\n",
       "      <th>0</th>\n",
       "      <td>6.042157</td>\n",
       "      <td>4.004013</td>\n",
       "    </tr>\n",
       "    <tr>\n",
       "      <th>1</th>\n",
       "      <td>1.950472</td>\n",
       "      <td>2.568020</td>\n",
       "    </tr>\n",
       "    <tr>\n",
       "      <th>2</th>\n",
       "      <td>3.686214</td>\n",
       "      <td>3.654038</td>\n",
       "    </tr>\n",
       "    <tr>\n",
       "      <th>3</th>\n",
       "      <td>7.472680</td>\n",
       "      <td>4.124696</td>\n",
       "    </tr>\n",
       "    <tr>\n",
       "      <th>4</th>\n",
       "      <td>6.352674</td>\n",
       "      <td>3.732077</td>\n",
       "    </tr>\n",
       "  </tbody>\n",
       "</table>\n",
       "</div>"
      ],
      "text/plain": [
       "          X         Y\n",
       "0  6.042157  4.004013\n",
       "1  1.950472  2.568020\n",
       "2  3.686214  3.654038\n",
       "3  7.472680  4.124696\n",
       "4  6.352674  3.732077"
      ]
     },
     "execution_count": 5,
     "metadata": {},
     "output_type": "execute_result"
    }
   ],
   "source": [
    "df.head()"
   ]
  },
  {
   "cell_type": "markdown",
   "metadata": {},
   "source": [
    "# Split and Preprocess Data"
   ]
  },
  {
   "cell_type": "code",
   "execution_count": 6,
   "metadata": {},
   "outputs": [],
   "source": [
    "from sklearn.model_selection import train_test_split\n",
    "train, test = train_test_split(df,  random_state = 42)"
   ]
  },
  {
   "cell_type": "code",
   "execution_count": 7,
   "metadata": {},
   "outputs": [
    {
     "data": {
      "text/plain": [
       "(375, 2)"
      ]
     },
     "execution_count": 7,
     "metadata": {},
     "output_type": "execute_result"
    }
   ],
   "source": [
    "train.shape"
   ]
  },
  {
   "cell_type": "code",
   "execution_count": 8,
   "metadata": {},
   "outputs": [
    {
     "data": {
      "text/plain": [
       "(125, 2)"
      ]
     },
     "execution_count": 8,
     "metadata": {},
     "output_type": "execute_result"
    }
   ],
   "source": [
    "test.shape"
   ]
  },
  {
   "cell_type": "markdown",
   "metadata": {},
   "source": [
    "# Data conversion to Torch"
   ]
  },
  {
   "cell_type": "code",
   "execution_count": 9,
   "metadata": {},
   "outputs": [
    {
     "data": {
      "text/plain": [
       "<torch._C.Generator at 0x289de13a830>"
      ]
     },
     "execution_count": 9,
     "metadata": {},
     "output_type": "execute_result"
    }
   ],
   "source": [
    "import torch\n",
    "import torch.nn as nn\n",
    "import torch.nn.functional as F\n",
    "from torch.autograd import Variable\n",
    "torch.manual_seed(42)"
   ]
  },
  {
   "cell_type": "code",
   "execution_count": 10,
   "metadata": {},
   "outputs": [],
   "source": [
    "feature_set_x = ['X']\n",
    "feature_set_y = ['Y']"
   ]
  },
  {
   "cell_type": "code",
   "execution_count": 11,
   "metadata": {},
   "outputs": [],
   "source": [
    "train_x =Variable(torch.FloatTensor(train[feature_set_x].values), requires_grad = False)\n",
    "train_y =Variable(torch.FloatTensor(train[feature_set_y].values), requires_grad = False)\n",
    "\n",
    "test_x =Variable(torch.FloatTensor(test[feature_set_x].values), requires_grad = False)\n",
    "test_y =Variable(torch.FloatTensor(test[feature_set_y].values), requires_grad = False)"
   ]
  },
  {
   "cell_type": "markdown",
   "metadata": {},
   "source": [
    "# Utilities for Metric Evaluation and Plotting"
   ]
  },
  {
   "cell_type": "code",
   "execution_count": 12,
   "metadata": {},
   "outputs": [],
   "source": [
    "import matplotlib.pyplot as plt\n",
    "from IPython.display import display, clear_output\n",
    "%matplotlib inline\n",
    "\n",
    "from sklearn.metrics import mean_squared_error as error_metric"
   ]
  },
  {
   "cell_type": "code",
   "execution_count": 13,
   "metadata": {},
   "outputs": [],
   "source": [
    "def plot_fn(loss):\n",
    "    loss = np.array(loss, dtype = np.float)\n",
    "    plt.plot(loss)"
   ]
  },
  {
   "cell_type": "code",
   "execution_count": 14,
   "metadata": {},
   "outputs": [],
   "source": [
    "def format_results(epoch  , loss , acc):\n",
    "    print ( \"Epoch: {0:5d},  Loss : {1:0.4f} ,  Error_metric : {2:0.4f}\". \n",
    "           format(epoch, loss , acc))"
   ]
  },
  {
   "cell_type": "markdown",
   "metadata": {},
   "source": [
    "# Hyper Parameters\n",
    "\n",
    "Change values in the followng sections to see how the accuracy can be increased"
   ]
  },
  {
   "cell_type": "code",
   "execution_count": 15,
   "metadata": {},
   "outputs": [],
   "source": [
    "num_epoch = 50\n",
    "per_epoch = int(num_epoch/10)\n",
    "lr = 0.001"
   ]
  },
  {
   "cell_type": "code",
   "execution_count": 16,
   "metadata": {},
   "outputs": [],
   "source": [
    "num_features = 1  # Dimension of input features\n",
    "num_classes  = 1  # Dimension of output"
   ]
  },
  {
   "cell_type": "code",
   "execution_count": 17,
   "metadata": {},
   "outputs": [],
   "source": [
    "# Try various activation functions\n",
    "actv_func = nn.ReLU()"
   ]
  },
  {
   "cell_type": "code",
   "execution_count": 18,
   "metadata": {},
   "outputs": [],
   "source": [
    "# No of hidden layers and their size\n",
    "# h_layers = [ 1 ]     # Trial 1\n",
    "h_layers = [ ]         # Trial 2"
   ]
  },
  {
   "cell_type": "markdown",
   "metadata": {},
   "source": [
    "# Building Model"
   ]
  },
  {
   "cell_type": "code",
   "execution_count": 19,
   "metadata": {},
   "outputs": [],
   "source": [
    "def Create_hidden(h_layers):\n",
    "    layers = []\n",
    "    input_num = num_features\n",
    "    \n",
    "    for h in h_layers:\n",
    "        output_num = h\n",
    "        #print(input_num , output_num)\n",
    "        layers.append ( nn.Linear(input_num , output_num) ) \n",
    "        layers.append ( actv_func )\n",
    "        input_num = h\n",
    "        \n",
    "    layers.append ( nn.Linear(input_num , num_classes) ) \n",
    "    net = nn.Sequential(*layers)\n",
    "    return net"
   ]
  },
  {
   "cell_type": "code",
   "execution_count": 20,
   "metadata": {},
   "outputs": [],
   "source": [
    "class Linear_Regression(nn.Module):\n",
    "    def __init__(self):\n",
    "        super(Linear_Regression, self).__init__()\n",
    "        self.net = Create_hidden(h_layers)\n",
    "        \n",
    "    def forward(self,x):\n",
    "        y = self.net(x)\n",
    "        return y"
   ]
  },
  {
   "cell_type": "code",
   "execution_count": 21,
   "metadata": {},
   "outputs": [],
   "source": [
    "model = Linear_Regression()"
   ]
  },
  {
   "cell_type": "code",
   "execution_count": 22,
   "metadata": {},
   "outputs": [
    {
     "data": {
      "text/plain": [
       "Linear_Regression(\n",
       "  (net): Sequential(\n",
       "    (0): Linear(in_features=1, out_features=1, bias=True)\n",
       "  )\n",
       ")"
      ]
     },
     "execution_count": 22,
     "metadata": {},
     "output_type": "execute_result"
    }
   ],
   "source": [
    "model"
   ]
  },
  {
   "cell_type": "code",
   "execution_count": 23,
   "metadata": {},
   "outputs": [],
   "source": [
    "loss_fn = nn.MSELoss()\n",
    "opt_fn  = torch.optim.SGD(model.parameters(), lr=lr)"
   ]
  },
  {
   "cell_type": "markdown",
   "metadata": {},
   "source": [
    "# Training"
   ]
  },
  {
   "cell_type": "code",
   "execution_count": 24,
   "metadata": {},
   "outputs": [
    {
     "data": {
      "application/vnd.jupyter.widget-view+json": {
       "model_id": "106c3c82e3a945eeab977f07a2a04f75",
       "version_major": 2,
       "version_minor": 0
      },
      "text/plain": [
       "HBox(children=(IntProgress(value=0, max=50), HTML(value='')))"
      ]
     },
     "metadata": {},
     "output_type": "display_data"
    },
    {
     "name": "stdout",
     "output_type": "stream",
     "text": [
      "Epoch:     1,  Loss : 2.8190 ,  Error_metric : 2.8190\n",
      "Epoch:     6,  Loss : 2.5763 ,  Error_metric : 2.5763\n",
      "Epoch:    11,  Loss : 2.3721 ,  Error_metric : 2.3721\n",
      "Epoch:    16,  Loss : 2.1999 ,  Error_metric : 2.1999\n",
      "Epoch:    21,  Loss : 2.0540 ,  Error_metric : 2.0540\n",
      "Epoch:    26,  Loss : 1.9300 ,  Error_metric : 1.9300\n",
      "Epoch:    31,  Loss : 1.8242 ,  Error_metric : 1.8242\n",
      "Epoch:    36,  Loss : 1.7333 ,  Error_metric : 1.7333\n",
      "Epoch:    41,  Loss : 1.6550 ,  Error_metric : 1.6550\n",
      "Epoch:    46,  Loss : 1.5870 ,  Error_metric : 1.5870\n",
      "\n"
     ]
    }
   ],
   "source": [
    "loss_array = []\n",
    "\n",
    "for epoch in tnrange(num_epoch):\n",
    "    \n",
    "    pred_y = model(train_x)\n",
    "    loss = loss_fn(pred_y, train_y)    \n",
    "    \n",
    "    opt_fn.zero_grad()\n",
    "\n",
    "    loss.backward()\n",
    "    opt_fn.step()    \n",
    "    \n",
    "    losses = np.array(loss_array, dtype = np.float)\n",
    "    loss_array.append(loss.item())\n",
    "    \n",
    "    res_y = (pred_y.detach().numpy())\n",
    "    \n",
    "    if (epoch) % per_epoch == 0:\n",
    "        format_results( epoch+1 , loss.item() , error_metric(train_y, res_y) )"
   ]
  },
  {
   "cell_type": "code",
   "execution_count": 25,
   "metadata": {},
   "outputs": [
    {
     "data": {
      "image/png": "[encoded data removed]",
      "text/plain": [
       "<Figure size 432x288 with 1 Axes>"
      ]
     },
     "metadata": {
      "needs_background": "light"
     },
     "output_type": "display_data"
    }
   ],
   "source": [
    "plot_fn(loss_array)"
   ]
  },
  {
   "cell_type": "markdown",
   "metadata": {},
   "source": [
    "# Testing"
   ]
  },
  {
   "cell_type": "code",
   "execution_count": 26,
   "metadata": {},
   "outputs": [],
   "source": [
    "pred_y = model(test_x)"
   ]
  },
  {
   "cell_type": "code",
   "execution_count": 27,
   "metadata": {},
   "outputs": [
    {
     "data": {
      "text/plain": [
       "torch.Size([125, 1])"
      ]
     },
     "execution_count": 27,
     "metadata": {},
     "output_type": "execute_result"
    }
   ],
   "source": [
    "pred_y.shape"
   ]
  },
  {
   "cell_type": "code",
   "execution_count": 28,
   "metadata": {},
   "outputs": [
    {
     "data": {
      "text/plain": [
       "(125, 1)"
      ]
     },
     "execution_count": 28,
     "metadata": {},
     "output_type": "execute_result"
    }
   ],
   "source": [
    "res = (pred_y.detach().numpy())\n",
    "res.shape"
   ]
  },
  {
   "cell_type": "code",
   "execution_count": 29,
   "metadata": {},
   "outputs": [
    {
     "data": {
      "text/plain": [
       "1.538923"
      ]
     },
     "execution_count": 29,
     "metadata": {},
     "output_type": "execute_result"
    }
   ],
   "source": [
    "error_metric(train_y, res_y)"
   ]
  },
  {
   "cell_type": "code",
   "execution_count": null,
   "metadata": {},
   "outputs": [],
   "source": []
  }
 ],
 "metadata": {
  "kernelspec": {
   "display_name": "Python 3",
   "language": "python",
   "name": "python3"
  },
  "language_info": {
   "codemirror_mode": {
    "name": "ipython",
    "version": 3
   },
   "file_extension": ".py",
   "mimetype": "text/x-python",
   "name": "python",
   "nbconvert_exporter": "python",
   "pygments_lexer": "ipython3",
   "version": "3.5.6"
  }
 },
 "nbformat": 4,
 "nbformat_minor": 2
}
