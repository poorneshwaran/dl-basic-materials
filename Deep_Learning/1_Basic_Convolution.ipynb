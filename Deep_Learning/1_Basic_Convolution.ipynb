{
 "cells": [
  {
   "cell_type": "markdown",
   "metadata": {},
   "source": [
    "# Basic Convolution"
   ]
  },
  {
   "cell_type": "code",
   "execution_count": null,
   "metadata": {},
   "outputs": [],
   "source": [
    "Lets consider a kernel as shown below"
   ]
  },
  {
   "cell_type": "markdown",
   "metadata": {},
   "source": [
    "![SegmentLocal](Tutorial/utils/kernel.png \"segment\")"
   ]
  },
  {
   "cell_type": "code",
   "execution_count": null,
   "metadata": {},
   "outputs": [],
   "source": [
    "Following displays the standard convolution operation using the kernel on a 5x5 matrix"
   ]
  },
  {
   "cell_type": "markdown",
   "metadata": {},
   "source": [
    "![SegmentLocal](Tutorial/utils/basic_convolution.gif \"segment\")"
   ]
  },
  {
   "cell_type": "markdown",
   "metadata": {},
   "source": [
    "### Major parameters to consider are\n",
    "- kernel size\n",
    "- Stride\n",
    "- Padding"
   ]
  },
  {
   "cell_type": "markdown",
   "metadata": {},
   "source": [
    "## No Padding No Stride"
   ]
  },
  {
   "cell_type": "markdown",
   "metadata": {},
   "source": [
    "Here \n",
    "- input             &emsp; &emsp; &emsp; &emsp;               5 x 5  \n",
    "- kernel size       &emsp; &emsp;                             3 x 3  \n",
    "- padding           &emsp; &emsp; &emsp; &emsp;                 0    \n",
    "- stride            &emsp; &emsp; &emsp;&emsp; &emsp;           0    \n",
    "- output            &emsp; &emsp; &emsp;&emsp;                2 x 2  "
   ]
  },
  {
   "cell_type": "markdown",
   "metadata": {},
   "source": [
    "![SegmentLocal](Tutorial/utils/no_padding_no_strides.gif \"segment\")"
   ]
  },
  {
   "cell_type": "markdown",
   "metadata": {},
   "source": [
    "## Unit Padding No Stride"
   ]
  },
  {
   "cell_type": "markdown",
   "metadata": {},
   "source": [
    "Here \n",
    "- input             &emsp; &emsp; &emsp; &emsp;               5 x 5  \n",
    "- kernel size       &emsp; &emsp;                             3 x 3  \n",
    "- padding           &emsp; &emsp; &emsp; &emsp;                 1    \n",
    "- stride            &emsp; &emsp; &emsp;&emsp; &emsp;           0    \n",
    "- output            &emsp; &emsp; &emsp;&emsp;                5 x 5  "
   ]
  },
  {
   "cell_type": "markdown",
   "metadata": {},
   "source": [
    "![SegmentLocal](Tutorial/utils/same_padding_no_strides.gif \"segment\")"
   ]
  },
  {
   "cell_type": "markdown",
   "metadata": {},
   "source": [
    "## Padding & Stride"
   ]
  },
  {
   "cell_type": "markdown",
   "metadata": {},
   "source": [
    "Here \n",
    "- input             &emsp; &emsp; &emsp; &emsp;               5 x 5  \n",
    "- kernel size       &emsp; &emsp;                             3 x 3  \n",
    "- padding           &emsp; &emsp; &emsp; &emsp;                 1    \n",
    "- stride            &emsp; &emsp; &emsp;&emsp; &emsp;           2    \n",
    "- output            &emsp; &emsp; &emsp;&emsp;                3 x 3  "
   ]
  },
  {
   "cell_type": "markdown",
   "metadata": {},
   "source": [
    "![SegmentLocal](Tutorial/utils/padding_strides.gif \"segment\")"
   ]
  },
  {
   "cell_type": "markdown",
   "metadata": {},
   "source": [
    "# Pooling Layers"
   ]
  },
  {
   "cell_type": "markdown",
   "metadata": {},
   "source": [
    "Commonly used two types\n",
    "- Max pooling\n",
    "- Avg pooling\n",
    "\n",
    "![SegmentLocal](Tutorial/utils/Pooling.png \"segment\")"
   ]
  },
  {
   "cell_type": "markdown",
   "metadata": {},
   "source": [
    "Image source:\n",
    "\n",
    "http://deeplearning.net/software/theano_versions/dev/tutorial/conv_arithmetic.html\n",
    "\n",
    "https://www.researchgate.net/figure/Illustration-of-Max-Pooling-and-Average-Pooling-Figure-2-above-shows-an-example-of-max_fig2_333593451"
   ]
  }
 ],
 "metadata": {
  "kernelspec": {
   "display_name": "Python 3",
   "language": "python",
   "name": "python3"
  },
  "language_info": {
   "codemirror_mode": {
    "name": "ipython",
    "version": 3
   },
   "file_extension": ".py",
   "mimetype": "text/x-python",
   "name": "python",
   "nbconvert_exporter": "python",
   "pygments_lexer": "ipython3",
   "version": "3.5.6"
  }
 },
 "nbformat": 4,
 "nbformat_minor": 2
}
