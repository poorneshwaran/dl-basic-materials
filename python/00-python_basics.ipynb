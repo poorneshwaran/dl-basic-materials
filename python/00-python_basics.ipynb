{
 "cells": [
  {
   "cell_type": "markdown",
   "metadata": {},
   "source": [
    "# Python Basics and Dependencies"
   ]
  },
  {
   "cell_type": "markdown",
   "metadata": {},
   "source": [
    "## Why Python?"
   ]
  },
  {
   "cell_type": "markdown",
   "metadata": {},
   "source": [
    "[Python](https://python.org) is a general-purpose programming language that is popular and easy to use. For new programmers, it is a great choice as a first programming language. In fact, more and more university CS departments are centering their introductory courses around Python.\n"
   ]
  },
  {
   "cell_type": "markdown",
   "metadata": {},
   "source": [
    "## Tutorial"
   ]
  },
  {
   "cell_type": "markdown",
   "metadata": {},
   "source": [
    "\n",
    "For the purposes of this workshop, be sure you understand the following sections:\n",
    "\n",
    "- Section 3: An Informal Introduction to Python\n",
    "    - numbers: `int`, `float`\n",
    "    - strings\n",
    "    - lists\n",
    "- Section 4: More Control Flow Tools\n",
    "    - `if` statements\n",
    "    - `for` statements\n",
    "    - `range`\n",
    "    - functions\n",
    "- Section 5: Data Structures\n",
    "    - list comprehensions\n",
    "    - tuples\n",
    "    - dictionaries\n",
    "    - looping techniques\n",
    "- Section 6: File Handling\n",
    "    - .csv & .txt\n",
    "    \n",
    "While the other sections are useful, you can learn them along the way."
   ]
  },
  {
   "cell_type": "markdown",
   "metadata": {},
   "source": [
    "## Library Dependencies"
   ]
  },
  {
   "cell_type": "markdown",
   "metadata": {},
   "source": [
    "[2018 March 12] These notebooks reflect the following package versions:\n",
    "\n",
    "-   numpy 1.11.0\n",
    "-   scipy 1.0.0\n",
    "-   matplotlib 2.2.0\n",
    "-   ipython 6.2.1\n",
    "-   jupyter 1.0.0\n",
    "-   scikit-learn 0.19.1\n",
    "-   pandas 0.22.0\n",
    "\n",
    "\n",
    "pip is the recommended tool for installing most other Python packages.\n",
    "\n"
   ]
  }
 ],
 "metadata": {
  "kernelspec": {
   "display_name": "Python 2",
   "language": "python",
   "name": "python2"
  },
  "language_info": {
   "codemirror_mode": {
    "name": "ipython",
    "version": 2
   },
   "file_extension": ".py",
   "mimetype": "text/x-python",
   "name": "python",
   "nbconvert_exporter": "python",
   "pygments_lexer": "ipython2",
   "version": "2.7.12"
  }
 },
 "nbformat": 4,
 "nbformat_minor": 1
}
